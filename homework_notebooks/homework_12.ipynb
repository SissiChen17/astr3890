{
 "cells": [
  {
   "cell_type": "markdown",
   "metadata": {},
   "source": [
    "#### ASTR 3890 - Selected Topics: Data Science for Large Astronomical Surveys (Spring 2022)\n",
    "***N. Hernitschek***\n",
    "___\n",
    "\n",
    "# Homework 12\n",
    "### Due: Monday, Apr 25th at 11.00am CST\n",
    "\n",
    "The completed lecture notebook must also be submitted by 11:00am Central Time on Apr 25th.\n",
    "\n",
    "**This is your last homework assignment.**\n",
    "\n",
    "---"
   ]
  },
  {
   "cell_type": "markdown",
   "metadata": {},
   "source": [
    "## Problem 1\n",
    "\n",
    "**Density Estimation and Clustering**\n",
    "\n",
    "Fill in the blanks below and answer all questions. This exercise will take you though some topics from this and last week."
   ]
  },
  {
   "cell_type": "code",
   "execution_count": null,
   "metadata": {},
   "outputs": [],
   "source": [
    "\n",
    "import numpy as np\n",
    "import pandas as pd\n",
    "import matplotlib.pyplot as plt\n",
    "from sklearn.preprocessing import StandardScaler\n",
    "from sklearn.metrics.cluster import homogeneity_score\n",
    "from sklearn.datasets import make_blobs\n",
    "from sklearn.neighbors import KernelDensity\n",
    "from astroML.density_estimation import KNeighborsDensity\n",
    "from sklearn.model_selection import GridSearchCV\n",
    "from sklearn.mixture import GaussianMixture\n",
    "from sklearn.cluster import KMeans\n",
    "from sklearn.cluster import DBSCAN\n"
   ]
  },
  {
   "cell_type": "markdown",
   "metadata": {},
   "source": [
    "Setup up the data set. We will do both density estimation and clustering on it."
   ]
  },
  {
   "cell_type": "code",
   "execution_count": null,
   "metadata": {},
   "outputs": [],
   "source": [
    "from sklearn.datasets import make_blobs\n",
    "#Make two blobs with 3 features and 1000 samples\n",
    "N=1000\n",
    "X,y = make_blobs(n_samples=N, centers=5, n_features=2, random_state=25)\n",
    "plt.figure(figsize=(10,10))\n",
    "plt.scatter(X[:, 0], X[:, 1], s=_____, c=y)\n"
   ]
  },
  {
   "cell_type": "markdown",
   "metadata": {},
   "source": [
    "Start with kernel density estimation, including a grid search to find the best bandwidth."
   ]
  },
  {
   "cell_type": "code",
   "execution_count": null,
   "metadata": {},
   "outputs": [],
   "source": [
    "bwrange = np.linspace(____,____,____) # Test 30 bandwidths from 0.1 to 1.0 ####\n",
    "K = ____ # 5-fold cross validation ####\n",
    "grid = GridSearchCV(KernelDensity(), {'bandwidth': ____}, cv=K) ####\n",
    "grid.fit(X) #Fit the histogram data that we started the lecture with.\n",
    "h_opt = ____.best_params_['bandwidth'] ####\n",
    "print(h_opt)\n",
    "\n",
    "kde = KernelDensity(kernel='gaussian', bandwidth=h_opt)\n",
    "kde.fit(X) #fit the model to the data\n",
    "\n",
    "u = v = np.linspace(-15,15,100)\n",
    "Xgrid = np.vstack(map(np.ravel, np.meshgrid(u, v))).T\n",
    "dens = np.exp(kde.score_samples(Xgrid)) #evaluate the model on the grid\n",
    "\n",
    "plt.scatter(____[:,0],____[:,1], c=dens, cmap=\"Purples\", edgecolor=\"None\") ####\n",
    "plt.colorbar()"
   ]
  },
  {
   "cell_type": "markdown",
   "metadata": {},
   "source": [
    "\n",
    "Now try a nearest neighbors approach to estimating the density.\n",
    "What value of do you need to make the plot look similar to the one above?\n"
   ]
  },
  {
   "cell_type": "code",
   "execution_count": null,
   "metadata": {},
   "outputs": [],
   "source": [
    "\n",
    "# Compute density with Bayesian nearest neighbors\n",
    "k=____ ####\n",
    "nbrs = KNeighborsDensity('bayesian',n_neighbors=____) ####\n",
    "nbrs.____(X) ####\n",
    "dens_nbrs = nbrs.eval(Xgrid) / N\n",
    "\n",
    "plt.scatter(Xgrid[:,0],Xgrid[:,1], c=dens_nbrs, cmap=\"Purples\", edgecolor=\"None\")\n",
    "plt.colorbar()\n"
   ]
  },
  {
   "cell_type": "markdown",
   "metadata": {},
   "source": [
    "Now do a Gaussian mixture model. Do a grid search for between 1 and 10 components.\n"
   ]
  },
  {
   "cell_type": "code",
   "execution_count": null,
   "metadata": {},
   "outputs": [],
   "source": [
    "\n",
    "#Kludge to fix the bug with draw_ellipse in astroML v1.0\n",
    "from matplotlib.patches import Ellipse\n",
    "\n",
    "def draw_ellipse(mu, C, scales=[1, 2, 3], ax=None, **kwargs):\n",
    "    if ax is None:\n",
    "        ax = plt.gca()\n",
    "\n",
    "    # find principal components and rotation angle of ellipse\n",
    "    sigma_x2 = C[0, 0]\n",
    "    sigma_y2 = C[1, 1]\n",
    "    sigma_xy = C[0, 1]\n",
    "\n",
    "    alpha = 0.5 * np.arctan2(2 * sigma_xy,\n",
    "                             (sigma_x2 - sigma_y2))\n",
    "    tmp1 = 0.5 * (sigma_x2 + sigma_y2)\n",
    "    tmp2 = np.sqrt(0.25 * (sigma_x2 - sigma_y2) ** 2 + sigma_xy ** 2)\n",
    "\n",
    "    sigma1 = np.sqrt(tmp1 + tmp2)\n",
    "    sigma2 = np.sqrt(tmp1 - tmp2)\n",
    "\n",
    "    for scale in scales:\n",
    "        ax.add_patch(Ellipse((mu[0], mu[1]),\n",
    "                             2 * scale * sigma1, 2 * scale * sigma2,\n",
    "                             alpha * 180. / np.pi,\n",
    "                             **kwargs))\n",
    "\n",
    "                             \n",
    "ncomps = np.arange(____,____,____) # Test 10 bandwidths from 1 to 10 ####\n",
    "K = 5 # 5-fold cross validation\n",
    "grid = ____(GaussianMixture(), {'n_components': ncomps}, cv=____)  ####\n",
    "grid.fit(X) #Fit the histogram data that we started the lecture with.\n",
    "ncomp_opt = grid.____['n_components'] ####\n",
    "print(ncomp_opt)\n",
    "\n",
    "gmm = ____(n_components=ncomp_opt) ####\n",
    "gmm.fit(X)\n",
    "\n",
    "fig = plt.figure(figsize=(8, 8))\n",
    "ax = fig.add_subplot(111)\n",
    "ax.scatter(X[:,0],X[:,1])\n",
    "\n",
    "ax.scatter(gmm.means_[:,0], gmm.means_[:,1], marker='s', c='red', s=80)\n",
    "for mu, C, w in zip(gmm.means_, gmm.covariances_, gmm.weights_):\n",
    "    draw_ellipse(mu, 1*C, scales=[2], ax=ax, fc='none', ec='k') #2 sigma ellipses for each component"
   ]
  },
  {
   "cell_type": "markdown",
   "metadata": {},
   "source": [
    "Do you get the same answer (the same number of components) each time you run it?\n",
    "Why is that the case?"
   ]
  },
  {
   "cell_type": "markdown",
   "metadata": {},
   "source": [
    "Now try Kmeans. Here we will scale the data.\n"
   ]
  },
  {
   "cell_type": "code",
   "execution_count": null,
   "metadata": {},
   "outputs": [],
   "source": [
    "\n",
    "kmeans = KMeans(n_clusters=5)\n",
    "scaler = StandardScaler()\n",
    "X_scaled = ____.____(X) ####\n",
    "kmeans.fit(X_scaled)\n",
    "centers=kmeans.____ #location of the clusters ####\n",
    "labels=kmeans.predict(____) #labels for each of the points ####\n",
    "centers_unscaled = scaler.____(centers) ####\n",
    "\n",
    "\n",
    "fig,ax = plt.subplots(1,2,figsize=(16, 8))\n",
    "ax[0].scatter(X[:,0],X[:,1],c=labels)\n",
    "ax[0].scatter(centers_unscaled[:,0], centers_unscaled[:,1], marker='s', c='red', s=80)\n",
    "ax[0].set_title(\"Predictions\")\n",
    "\n",
    "ax[1].scatter(X[:, 0], X[:, 1], c=y)\n",
    "ax[1].set_title(\"Truth\")\n"
   ]
  },
  {
   "cell_type": "markdown",
   "metadata": {},
   "source": [
    "\n",
    "Let's evaluate how well we did in two other ways: a matrix and a score.\n"
   ]
  },
  {
   "cell_type": "code",
   "execution_count": null,
   "metadata": {},
   "outputs": [],
   "source": [
    "\n",
    "df = pd.DataFrame({'predictions': labels, 'truth': y})\n",
    "ct = pd.crosstab(df['predictions'], df['truth'])\n",
    "print(ct)\n",
    "\n",
    "from sklearn.metrics.cluster import homogeneity_score\n",
    "score = homogeneity_score(df['truth'], df['predictions'])\n",
    "print(score)\n"
   ]
  },
  {
   "cell_type": "markdown",
   "metadata": {},
   "source": [
    "\n",
    "\n",
    "\n",
    "\n",
    "What is the score for 3 clusters?\n"
   ]
  },
  {
   "cell_type": "code",
   "execution_count": null,
   "metadata": {},
   "outputs": [],
   "source": []
  },
  {
   "cell_type": "markdown",
   "metadata": {},
   "source": [
    "### Solution"
   ]
  },
  {
   "cell_type": "markdown",
   "metadata": {},
   "source": [
    "\n",
    "\n"
   ]
  }
 ],
 "metadata": {
  "anaconda-cloud": {},
  "kernelspec": {
   "display_name": "Python 3",
   "language": "python",
   "name": "python3"
  },
  "language_info": {
   "codemirror_mode": {
    "name": "ipython",
    "version": 3
   },
   "file_extension": ".py",
   "mimetype": "text/x-python",
   "name": "python",
   "nbconvert_exporter": "python",
   "pygments_lexer": "ipython3",
   "version": "3.8.10"
  }
 },
 "nbformat": 4,
 "nbformat_minor": 2
}

{
 "cells": [
  {
   "cell_type": "markdown",
   "metadata": {},
   "source": [
    "#### ASTR 3890 - Selected Topics: Data Science for Large Astronomical Surveys (Spring 2022)\n",
    "***N. Hernitschek***\n",
    "___\n",
    "\n",
    "# Homework 10\n",
    "### Due: Monday, Apr 11th at 11.00am CST\n",
    "\n",
    "The completed lecture notebook must also be submitted by 11:00am Central Time on Apr 11th.\n",
    "\n",
    "---"
   ]
  },
  {
   "cell_type": "markdown",
   "metadata": {},
   "source": [
    "## Problem 1\n",
    "\n",
    "**Support Vector Machine**\n",
    "\n",
    "scikit-learn has the benefit of using a common interface for most of its machine learning methods. This makes it easier to try out different methods without changing too much code.\n",
    "\n",
    "Starting with what we saw in the `lecture_10.ipynb` notebook and the code snipplet below, use `sklearn.svm.SVC` to predict what type of iris has a 3cm x 5cm sepal and 4cm x 2cm petal. Don't forget the model validation.\n"
   ]
  },
  {
   "cell_type": "code",
   "execution_count": null,
   "metadata": {},
   "outputs": [],
   "source": [
    "from sklearn.svm import SVC\n",
    "iris = datasets.load_iris()\n",
    "X, y = iris.data, iris.target\n",
    "Xtest = np.array([[3,5,4,2],])\n",
    "\n",
    "model = ____() # fill that in\n",
    "model.fit(____,____) # fill that in\n",
    "result = ____.____(____) # fill that in\n",
    "print(iris.target_names[result]) # fill that in"
   ]
  },
  {
   "cell_type": "markdown",
   "metadata": {},
   "source": [
    "### Solution"
   ]
  },
  {
   "cell_type": "code",
   "execution_count": 33,
   "metadata": {},
   "outputs": [],
   "source": [
    "from sklearn.svm import SVC\n",
    "from sklearn import datasets\n",
    "from sklearn.metrics import confusion_matrix\n",
    "import numpy as np\n",
    "from sklearn.model_selection import train_test_split"
   ]
  },
  {
   "cell_type": "code",
   "execution_count": 71,
   "metadata": {},
   "outputs": [
    {
     "name": "stdout",
     "output_type": "stream",
     "text": [
      "Prediction: ['versicolor']\n",
      "Model Score: 0.9733333333333334\n"
     ]
    }
   ],
   "source": [
    "# Predict the type of iris given a 3cm x 5cm sepal and 4cm x 2cm petal\n",
    "# No train-test split.\n",
    "iris = datasets.load_iris()\n",
    "X, y = iris.data, iris.target\n",
    "Xtest = np.array([[3,5,4,2],])\n",
    "\n",
    "model = SVC()\n",
    "model.fit(X,y)\n",
    "result = model.predict(Xtest)\n",
    "print('Prediction:', iris.target_names[result])"
   ]
  },
  {
   "cell_type": "code",
   "execution_count": 92,
   "metadata": {},
   "outputs": [
    {
     "name": "stdout",
     "output_type": "stream",
     "text": [
      "Model Score: 0.9733333333333334 \n",
      "\n",
      "[[50  0  0]\n",
      " [ 0 48  2]\n",
      " [ 0  2 48]]\n"
     ]
    }
   ],
   "source": [
    "# Model validation\n",
    "# Confusion matrix for model above (no split)\n",
    "\n",
    "print('Model Score:', model.score(X, y), '\\n')\n",
    "\n",
    "y_pred = model.predict(X)\n",
    "print(confusion_matrix(y, y_pred))"
   ]
  },
  {
   "cell_type": "markdown",
   "metadata": {},
   "source": [
    "There seems to be some confusion between the second and third iris species (versicolour and virginica)."
   ]
  },
  {
   "cell_type": "code",
   "execution_count": 144,
   "metadata": {},
   "outputs": [
    {
     "name": "stdout",
     "output_type": "stream",
     "text": [
      "Prediction: ['versicolor']\n"
     ]
    }
   ],
   "source": [
    "# Repeat process with a train-test split.\n",
    "\n",
    "Xtrain, Xtest_spl, ytrain, ytest = train_test_split(X, y, stratify=y)\n",
    "model_spl = SVC()\n",
    "model_spl.fit(Xtrain, ytrain)\n",
    "result_spl = model_spl.predict(Xtest)\n",
    "print('Prediction:', iris.target_names[result_spl])"
   ]
  },
  {
   "cell_type": "code",
   "execution_count": 145,
   "metadata": {},
   "outputs": [
    {
     "name": "stdout",
     "output_type": "stream",
     "text": [
      "Model Score on Test Data: 0.9210526315789473 \n",
      "\n",
      "[[13  0  0]\n",
      " [ 0 12  0]\n",
      " [ 0  3 10]]\n"
     ]
    }
   ],
   "source": [
    "# Model validation\n",
    "# Confusion matrix on test data for model above\n",
    "\n",
    "print('Model Score on Test Data:', model_spl.score(Xtest_spl, ytest), '\\n')\n",
    "\n",
    "y_pred_spl = model_spl.predict(Xtest_spl)\n",
    "print(confusion_matrix(ytest, y_pred_spl))"
   ]
  },
  {
   "cell_type": "markdown",
   "metadata": {},
   "source": [
    "Once again, there seems to be some confusion between the versicolour and virginica species.\n",
    "\n",
    "It depends on how the data is split, but the model that has been trained on a split dataset may score better or worse than the model that was trained on the entire dataset."
   ]
  }
 ],
 "metadata": {
  "anaconda-cloud": {},
  "kernelspec": {
   "display_name": "Python 3 (ipykernel)",
   "language": "python",
   "name": "python3"
  },
  "language_info": {
   "codemirror_mode": {
    "name": "ipython",
    "version": 3
   },
   "file_extension": ".py",
   "mimetype": "text/x-python",
   "name": "python",
   "nbconvert_exporter": "python",
   "pygments_lexer": "ipython3",
   "version": "3.8.12"
  }
 },
 "nbformat": 4,
 "nbformat_minor": 2
}

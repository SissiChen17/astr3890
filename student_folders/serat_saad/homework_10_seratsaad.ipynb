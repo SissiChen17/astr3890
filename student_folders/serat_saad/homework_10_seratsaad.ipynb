{
 "cells": [
  {
   "cell_type": "markdown",
   "metadata": {},
   "source": [
    "#### ASTR 3890 - Selected Topics: Data Science for Large Astronomical Surveys (Spring 2022)\n",
    "***N. Hernitschek***\n",
    "___\n",
    "\n",
    "# Homework 10\n",
    "### Due: Monday, Apr 11th at 11.00am CST\n",
    "\n",
    "The completed lecture notebook must also be submitted by 11:00am Central Time on Apr 11th.\n",
    "\n",
    "---"
   ]
  },
  {
   "cell_type": "markdown",
   "metadata": {},
   "source": [
    "## Problem 1\n",
    "\n",
    "**Support Vector Machine**\n",
    "\n",
    "scikit-learn has the benefit of using a common interface for most of its machine learning methods. This makes it easier to try out different methods without changing too much code.\n",
    "\n",
    "Starting with what we saw in the `lecture_10.ipynb` notebook and the code snipplet below, use `sklearn.svm.SVC` to predict what type of iris has a 3cm x 5cm sepal and 4cm x 2cm petal. Don't forget the model validation.\n"
   ]
  },
  {
   "cell_type": "code",
   "execution_count": 2,
   "metadata": {},
   "outputs": [],
   "source": [
    "\n",
    "#from sklearn.svm import SVC\n",
    "#iris = datasets.load_iris()\n",
    "#X, y = iris.data, iris.target\n",
    "#Xtest = np.array([[3,5,4,2],])\n",
    "\n",
    "#model = ____() # fill that in\n",
    "#model.fit(____,____) # fill that in\n",
    "#result = ____.____(____) # fill that in\n",
    "#print(iris.target_names[result]) # fill that in\n",
    "\n"
   ]
  },
  {
   "cell_type": "markdown",
   "metadata": {},
   "source": [
    "### Solution"
   ]
  },
  {
   "cell_type": "code",
   "execution_count": 7,
   "metadata": {},
   "outputs": [],
   "source": [
    "from sklearn import datasets\n",
    "from sklearn.metrics import confusion_matrix\n",
    "import numpy as np\n",
    "from sklearn.model_selection import train_test_split"
   ]
  },
  {
   "cell_type": "code",
   "execution_count": 10,
   "metadata": {},
   "outputs": [
    {
     "name": "stdout",
     "output_type": "stream",
     "text": [
      "Predicted iris is ['versicolor']\n"
     ]
    }
   ],
   "source": [
    "from sklearn.svm import SVC\n",
    "iris = datasets.load_iris()\n",
    "X, y = iris.data, iris.target\n",
    "Xtest = np.array([[3,5,4,2],])\n",
    "\n",
    "model = SVC()\n",
    "model.fit(X,y)\n",
    "result = model.predict(Xtest)\n",
    "print('Predicted iris is', iris.target_names[result])"
   ]
  },
  {
   "cell_type": "code",
   "execution_count": 13,
   "metadata": {},
   "outputs": [
    {
     "name": "stdout",
     "output_type": "stream",
     "text": [
      "Model Score is 0.9733333333333334\n",
      "Predicted iris is ['virginica']\n",
      "Model Score (on Test Data) is 0.9736842105263158\n"
     ]
    }
   ],
   "source": [
    "#Finding and printing the model score\n",
    "model_score = model.score(X,y)\n",
    "print('Model Score is', model_score)\n",
    "\n",
    "#Finding predicted iris\n",
    "Xtrain, Xtest_spl, ytrain, ytest = train_test_split(X, y, stratify=y)\n",
    "model_spl = SVC()\n",
    "model_spl.fit(Xtrain, ytrain)\n",
    "result_spl = model_spl.predict(Xtest)\n",
    "print(\"Predicted iris is\", iris.target_names[result_spl])\n",
    "\n",
    "#Finding and printing model score on test data\n",
    "model_score_testdata = model_spl.score(Xtest_spl, ytest)\n",
    "print('Model Score (on Test Data) is', model_score_testdata)\n",
    "\n",
    "\n"
   ]
  },
  {
   "cell_type": "markdown",
   "metadata": {},
   "source": [
    "\n",
    "\n"
   ]
  }
 ],
 "metadata": {
  "anaconda-cloud": {},
  "kernelspec": {
   "display_name": "Python 3 (ipykernel)",
   "language": "python",
   "name": "python3"
  },
  "language_info": {
   "codemirror_mode": {
    "name": "ipython",
    "version": 3
   },
   "file_extension": ".py",
   "mimetype": "text/x-python",
   "name": "python",
   "nbconvert_exporter": "python",
   "pygments_lexer": "ipython3",
   "version": "3.9.7"
  }
 },
 "nbformat": 4,
 "nbformat_minor": 2
}

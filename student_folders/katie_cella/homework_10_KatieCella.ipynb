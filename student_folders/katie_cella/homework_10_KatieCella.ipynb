{
 "cells": [
  {
   "cell_type": "markdown",
   "metadata": {},
   "source": [
    "#### ASTR 3890 - Selected Topics: Data Science for Large Astronomical Surveys (Spring 2022)\n",
    "***N. Hernitschek***\n",
    "___\n",
    "\n",
    "# Homework 10\n",
    "### Due: Monday, Apr 11th at 11.00am CST\n",
    "\n",
    "The completed lecture notebook must also be submitted by 11:00am Central Time on Apr 11th.\n",
    "\n",
    "---"
   ]
  },
  {
   "cell_type": "markdown",
   "metadata": {},
   "source": [
    "## Problem 1\n",
    "\n",
    "**Support Vector Machine**\n",
    "\n",
    "scikit-learn has the benefit of using a common interface for most of its machine learning methods. This makes it easier to try out different methods without changing too much code.\n",
    "\n",
    "Starting with what we saw in the `lecture_10.ipynb` notebook and the code snipplet below, use `sklearn.svm.SVC` to predict what type of iris has a 3cm x 5cm sepal and 4cm x 2cm petal. Don't forget the model validation.\n"
   ]
  },
  {
   "cell_type": "markdown",
   "metadata": {},
   "source": [
    "### Solution"
   ]
  },
  {
   "cell_type": "code",
   "execution_count": 15,
   "metadata": {},
   "outputs": [
    {
     "name": "stdout",
     "output_type": "stream",
     "text": [
      "validation\n",
      "[[10  0  0]\n",
      " [ 0 16  1]\n",
      " [ 0  0 11]]\n",
      "3cm x 5cm sepal and 4cm x 2cm petal\n",
      "['versicolor']\n"
     ]
    }
   ],
   "source": [
    "import numpy as np\n",
    "from sklearn import datasets\n",
    "from sklearn.svm import SVC\n",
    "from sklearn.model_selection import train_test_split\n",
    "from sklearn.metrics import confusion_matrix\n",
    "\n",
    "iris = datasets.load_iris()\n",
    "Xtrain, Xtest, ytrain, ytest = train_test_split(X, y)\n",
    "\n",
    "Xmain_test = np.array([[3,5,4,2],])\n",
    "\n",
    "model = SVC() # fill that in\n",
    "model.fit(Xtrain,ytrain) # fill that in\n",
    "result = model.predict(Xtest) # fill that in\n",
    "print(\"validation\")\n",
    "print(confusion_matrix(ytest, result))\n",
    "\n",
    "result_main = model.predict(Xmain_test)\n",
    "print(\"3cm x 5cm sepal and 4cm x 2cm petal\") \n",
    "print(iris.target_names[result_main]) # fill that in"
   ]
  },
  {
   "cell_type": "markdown",
   "metadata": {},
   "source": [
    "\n",
    "\n"
   ]
  }
 ],
 "metadata": {
  "anaconda-cloud": {},
  "kernelspec": {
   "display_name": "Python 3 (ipykernel)",
   "language": "python",
   "name": "python3"
  },
  "language_info": {
   "codemirror_mode": {
    "name": "ipython",
    "version": 3
   },
   "file_extension": ".py",
   "mimetype": "text/x-python",
   "name": "python",
   "nbconvert_exporter": "python",
   "pygments_lexer": "ipython3",
   "version": "3.7.12"
  }
 },
 "nbformat": 4,
 "nbformat_minor": 2
}
